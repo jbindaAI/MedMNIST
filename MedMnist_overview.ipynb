{
 "cells": [
  {
   "cell_type": "code",
   "execution_count": 2,
   "id": "c4d755a3-8074-4329-90a7-d2451ec3701f",
   "metadata": {},
   "outputs": [],
   "source": [
    "import medmnist\n",
    "from medmnist import INFO, Evaluator"
   ]
  },
  {
   "cell_type": "code",
   "execution_count": 3,
   "id": "dd400987-50a1-4438-b5e9-438afc25ec8d",
   "metadata": {},
   "outputs": [],
   "source": [
    "from tqdm import tqdm\n",
    "import numpy as np\n",
    "import torch\n",
    "import torch.nn as nn\n",
    "import torch.optim as optim\n",
    "import torch.utils.data as data\n",
    "import torchvision.transforms as transforms\n",
    "from torchvision.transforms import v2"
   ]
  },
  {
   "cell_type": "code",
   "execution_count": 4,
   "id": "edbb257b-c6ad-43ef-9d71-0701e568e916",
   "metadata": {},
   "outputs": [],
   "source": [
    "import matplotlib.pyplot as plt"
   ]
  },
  {
   "cell_type": "markdown",
   "id": "265aad4c-3af2-488d-97ee-dc393db1922c",
   "metadata": {},
   "source": [
    "# PathMnist"
   ]
  },
  {
   "cell_type": "markdown",
   "id": "5268cc3b-f889-4f13-9997-83b23c9456e1",
   "metadata": {},
   "source": [
    "## Size 28"
   ]
  },
  {
   "cell_type": "code",
   "execution_count": 5,
   "id": "581135c0-7c1f-4727-acc6-8f6aeadaae69",
   "metadata": {},
   "outputs": [],
   "source": [
    "data_flag = 'pathmnist'\n",
    "download = True\n",
    "\n",
    "NUM_EPOCHS = 3\n",
    "BATCH_SIZE = 128\n",
    "lr = 0.001\n",
    "\n",
    "info = INFO[data_flag]\n",
    "task = info['task']\n",
    "n_channels = info['n_channels']\n",
    "n_classes = len(info['label'])\n",
    "\n",
    "DataClass = getattr(medmnist, info['python_class'])"
   ]
  },
  {
   "cell_type": "code",
   "execution_count": 6,
   "id": "68775131-9def-4d97-8487-5eaa2c97d54e",
   "metadata": {},
   "outputs": [
    {
     "name": "stdout",
     "output_type": "stream",
     "text": [
      "Using downloaded and verified file: /home/jbinda/.medmnist/pathmnist.npz\n",
      "Using downloaded and verified file: /home/jbinda/.medmnist/pathmnist.npz\n",
      "Using downloaded and verified file: /home/jbinda/.medmnist/pathmnist.npz\n"
     ]
    }
   ],
   "source": [
    "# preprocessing\n",
    "data_transform = transforms.Compose([\n",
    "    #transforms.ToTensor(),\n",
    "    v2.PILToTensor()\n",
    "    #transforms.Resize(224)\n",
    "    #transforms.Normalize(mean=[.5], std=[.5])\n",
    "])\n",
    "\n",
    "# load the data\n",
    "train_dataset = DataClass(split='train', transform=data_transform, download=download)\n",
    "test_dataset = DataClass(split='test', transform=data_transform, download=download)\n",
    "\n",
    "pil_dataset = DataClass(split='train', download=download)\n",
    "\n",
    "# encapsulate data into dataloader form\n",
    "train_loader = data.DataLoader(dataset=train_dataset, batch_size=BATCH_SIZE, shuffle=True)\n",
    "train_loader_at_eval = data.DataLoader(dataset=train_dataset, batch_size=2*BATCH_SIZE, shuffle=False)\n",
    "test_loader = data.DataLoader(dataset=test_dataset, batch_size=2*BATCH_SIZE, shuffle=False)"
   ]
  },
  {
   "cell_type": "code",
   "execution_count": 7,
   "id": "384ba5a4-588b-4728-bc11-687bf23a2ecc",
   "metadata": {},
   "outputs": [
    {
     "name": "stdout",
     "output_type": "stream",
     "text": [
      "Dataset PathMNIST of size 28 (pathmnist)\n",
      "    Number of datapoints: 89996\n",
      "    Root location: /home/jbinda/.medmnist\n",
      "    Split: train\n",
      "    Task: multi-class\n",
      "    Number of channels: 3\n",
      "    Meaning of labels: {'0': 'adipose', '1': 'background', '2': 'debris', '3': 'lymphocytes', '4': 'mucus', '5': 'smooth muscle', '6': 'normal colon mucosa', '7': 'cancer-associated stroma', '8': 'colorectal adenocarcinoma epithelium'}\n",
      "    Number of samples: {'train': 89996, 'val': 10004, 'test': 7180}\n",
      "    Description: The PathMNIST is based on a prior study for predicting survival from colorectal cancer histology slides, providing a dataset (NCT-CRC-HE-100K) of 100,000 non-overlapping image patches from hematoxylin & eosin stained histological images, and a test dataset (CRC-VAL-HE-7K) of 7,180 image patches from a different clinical center. The dataset is comprised of 9 types of tissues, resulting in a multi-class classification task. We resize the source images of 3×224×224 into 3×28×28, and split NCT-CRC-HE-100K into training and validation set with a ratio of 9:1. The CRC-VAL-HE-7K is treated as the test set.\n",
      "    License: CC BY 4.0\n"
     ]
    }
   ],
   "source": [
    "print(train_dataset)"
   ]
  },
  {
   "cell_type": "code",
   "execution_count": 8,
   "id": "70cd3e75-34a3-4882-854f-c2d660b4fbca",
   "metadata": {},
   "outputs": [
    {
     "data": {
      "text/plain": [
       "89996"
      ]
     },
     "execution_count": 8,
     "metadata": {},
     "output_type": "execute_result"
    }
   ],
   "source": [
    "len(train_dataset)"
   ]
  },
  {
   "cell_type": "code",
   "execution_count": 9,
   "id": "c0e95ce5-3f81-4539-ab54-5a0e01ed41e7",
   "metadata": {},
   "outputs": [
    {
     "data": {
      "text/plain": [
       "tensor([[[220, 219, 220,  ..., 220, 219, 221],\n",
       "         [218, 220, 219,  ..., 197, 192, 190],\n",
       "         [220, 220, 219,  ..., 208, 207, 209],\n",
       "         ...,\n",
       "         [218, 217, 221,  ..., 221, 220, 221],\n",
       "         [213, 217, 221,  ..., 221, 221, 221],\n",
       "         [215, 220, 221,  ..., 220, 221, 222]],\n",
       "\n",
       "        [[208, 207, 207,  ..., 208, 207, 208],\n",
       "         [206, 207, 206,  ..., 177, 172, 168],\n",
       "         [208, 207, 205,  ..., 191, 192, 194],\n",
       "         ...,\n",
       "         [205, 201, 208,  ..., 208, 208, 209],\n",
       "         [192, 200, 208,  ..., 208, 209, 208],\n",
       "         [195, 207, 208,  ..., 208, 208, 209]],\n",
       "\n",
       "        [[227, 227, 227,  ..., 227, 227, 227],\n",
       "         [226, 226, 226,  ..., 202, 197, 195],\n",
       "         [226, 226, 225,  ..., 213, 213, 216],\n",
       "         ...,\n",
       "         [225, 222, 227,  ..., 227, 227, 227],\n",
       "         [218, 222, 227,  ..., 227, 227, 227],\n",
       "         [220, 226, 227,  ..., 227, 227, 228]]], dtype=torch.uint8)"
      ]
     },
     "execution_count": 9,
     "metadata": {},
     "output_type": "execute_result"
    }
   ],
   "source": [
    "train_dataset[0][0]"
   ]
  },
  {
   "cell_type": "raw",
   "id": "fc5f1606-29a0-46a3-a2b6-836e10ade82a",
   "metadata": {},
   "source": []
  },
  {
   "cell_type": "code",
   "execution_count": 12,
   "id": "9c18e372-0269-474b-bb9a-414b2920f7f2",
   "metadata": {},
   "outputs": [],
   "source": [
    "imgs=[]\n",
    "for i in range(len(train_dataset)):\n",
    "    imgs.append(train_dataset[i][0])\n",
    "imgs = torch.stack(imgs)\n",
    "mean = torch.mean(imgs, dim=(0,2,3))\n",
    "std = torch.std(imgs, dim=(0,2,3))"
   ]
  },
  {
   "cell_type": "code",
   "execution_count": 13,
   "id": "a7b46054-b990-41b1-9391-e6cf656463a9",
   "metadata": {},
   "outputs": [
    {
     "data": {
      "text/plain": [
       "torch.Size([89996, 3, 28, 28])"
      ]
     },
     "execution_count": 13,
     "metadata": {},
     "output_type": "execute_result"
    }
   ],
   "source": [
    "imgs.shape"
   ]
  },
  {
   "cell_type": "code",
   "execution_count": 14,
   "id": "1f6cd81c-4d3c-4431-9294-f0cb9f4f6091",
   "metadata": {},
   "outputs": [],
   "source": [
    "mean = torch.mean(imgs, dim=(0,2,3))"
   ]
  },
  {
   "cell_type": "code",
   "execution_count": 15,
   "id": "9a943401-83c1-484b-9eb5-6099ece66366",
   "metadata": {},
   "outputs": [
    {
     "data": {
      "text/plain": [
       "tensor([0.7405, 0.5330, 0.7058])"
      ]
     },
     "execution_count": 15,
     "metadata": {},
     "output_type": "execute_result"
    }
   ],
   "source": [
    "mean"
   ]
  },
  {
   "cell_type": "code",
   "execution_count": 16,
   "id": "154a0742-ecd6-4900-8e3d-e64ddc21a26f",
   "metadata": {},
   "outputs": [
    {
     "data": {
      "text/plain": [
       "tensor([0.1237, 0.1768, 0.1244])"
      ]
     },
     "execution_count": 16,
     "metadata": {},
     "output_type": "execute_result"
    }
   ],
   "source": [
    "std"
   ]
  },
  {
   "cell_type": "code",
   "execution_count": 16,
   "id": "0b8e4d68-dbb0-4bb2-8b9e-128d5616e862",
   "metadata": {},
   "outputs": [],
   "source": [
    "batch = next(iter(train_loader))"
   ]
  },
  {
   "cell_type": "code",
   "execution_count": 17,
   "id": "e111a541-8168-4d8d-8c98-26c7c4b0b6c3",
   "metadata": {},
   "outputs": [],
   "source": [
    "example = batch[0][0,:,:]\n",
    "example = torch.movedim(example, 0, 2)"
   ]
  },
  {
   "cell_type": "code",
   "execution_count": 18,
   "id": "0bbca78d-a1b6-4996-a62b-f63e6478a173",
   "metadata": {},
   "outputs": [
    {
     "data": {
      "text/plain": [
       "<matplotlib.image.AxesImage at 0x7fd2d691b470>"
      ]
     },
     "execution_count": 18,
     "metadata": {},
     "output_type": "execute_result"
    },
    {
     "data": {
      "image/png": "[encoded data removed]",
      "text/plain": [
       "<Figure size 640x480 with 1 Axes>"
      ]
     },
     "metadata": {},
     "output_type": "display_data"
    }
   ],
   "source": [
    "plt.imshow(example)"
   ]
  },
  {
   "cell_type": "markdown",
   "id": "e85a5db5-bf8e-46cc-b579-1b7aa6fd9e69",
   "metadata": {},
   "source": [
    "## Size 224"
   ]
  },
  {
   "cell_type": "code",
   "execution_count": null,
   "id": "110c1b12-28b4-4329-8d15-229cf8122570",
   "metadata": {
    "scrolled": true
   },
   "outputs": [],
   "source": [
    "data_flag = 'pathmnist'\n",
    "download = True\n",
    "\n",
    "info = INFO[data_flag]\n",
    "DataClass = getattr(medmnist, info['python_class'])\n",
    "\n",
    "# load the data\n",
    "train_dataset = DataClass(split='train', transform=data_transform, download=download, size=224, mmap_mode='r')\n",
    "\n",
    "# encapsulate data into dataloader form\n",
    "train_loader = data.DataLoader(dataset=train_dataset, batch_size=BATCH_SIZE, shuffle=True)"
   ]
  },
  {
   "cell_type": "markdown",
   "id": "843181ec-eb49-4ca5-852d-e7e1eb380622",
   "metadata": {
    "jp-MarkdownHeadingCollapsed": true
   },
   "source": [
    "# TissueMNIST"
   ]
  },
  {
   "cell_type": "code",
   "execution_count": 42,
   "id": "829f14e9-1609-4d19-9d6b-18faacc3f924",
   "metadata": {},
   "outputs": [],
   "source": [
    "data_flag = 'tissuemnist'\n",
    "download = True\n",
    "\n",
    "NUM_EPOCHS = 3\n",
    "BATCH_SIZE = 128\n",
    "lr = 0.001\n",
    "\n",
    "info = INFO[data_flag]\n",
    "task = info['task']\n",
    "n_channels = info['n_channels']\n",
    "n_classes = len(info['label'])\n",
    "\n",
    "DataClass = getattr(medmnist, info['python_class'])"
   ]
  },
  {
   "cell_type": "code",
   "execution_count": 43,
   "id": "c343120f-0996-403b-9971-309f0a2faaf1",
   "metadata": {},
   "outputs": [
    {
     "name": "stdout",
     "output_type": "stream",
     "text": [
      "Using downloaded and verified file: /home/jbinda/.medmnist/tissuemnist.npz\n",
      "Using downloaded and verified file: /home/jbinda/.medmnist/tissuemnist.npz\n"
     ]
    }
   ],
   "source": [
    "# preprocessing\n",
    "data_transform = transforms.Compose([\n",
    "    transforms.ToTensor(),\n",
    "    #transforms.Normalize(mean=[.5], std=[.5])\n",
    "])\n",
    "\n",
    "# load the data\n",
    "train_dataset = DataClass(split='train', transform=data_transform, download=download)\n",
    "test_dataset = DataClass(split='test', transform=data_transform, download=download)\n",
    "\n",
    "# encapsulate data into dataloader form\n",
    "train_loader = data.DataLoader(dataset=train_dataset, batch_size=BATCH_SIZE, shuffle=True)\n",
    "test_loader = data.DataLoader(dataset=test_dataset, batch_size=2*BATCH_SIZE, shuffle=False)"
   ]
  },
  {
   "cell_type": "code",
   "execution_count": 44,
   "id": "59669103-e02b-447d-82e7-16d04431e5db",
   "metadata": {},
   "outputs": [
    {
     "data": {
      "text/plain": [
       "{'python_class': 'TissueMNIST',\n",
       " 'description': 'We use the BBBC051, available from the Broad Bioimage Benchmark Collection. The dataset contains 236,386 human kidney cortex cells, segmented from 3 reference tissue specimens and organized into 8 categories. We split the source dataset with a ratio of 7:1:2 into training, validation and test set. Each gray-scale image is 32×32×7 pixels, where 7 denotes 7 slices. We take maximum values across the slices and resize them into 28×28 gray-scale images.',\n",
       " 'url': 'https://zenodo.org/records/10519652/files/tissuemnist.npz?download=1',\n",
       " 'MD5': 'ebe78ee8b05294063de985d821c1c34b',\n",
       " 'url_64': 'https://zenodo.org/records/10519652/files/tissuemnist_64.npz?download=1',\n",
       " 'MD5_64': '123ece2eba09d0aa5d698fda57103344',\n",
       " 'url_128': 'https://zenodo.org/records/10519652/files/tissuemnist_128.npz?download=1',\n",
       " 'MD5_128': '61b955355d7425a89687b06cca3ce0c2',\n",
       " 'url_224': 'https://zenodo.org/records/10519652/files/tissuemnist_224.npz?download=1',\n",
       " 'MD5_224': 'b077128c4a949f0a4eb01517f9037b9c',\n",
       " 'task': 'multi-class',\n",
       " 'label': {'0': 'Collecting Duct, Connecting Tubule',\n",
       "  '1': 'Distal Convoluted Tubule',\n",
       "  '2': 'Glomerular endothelial cells',\n",
       "  '3': 'Interstitial endothelial cells',\n",
       "  '4': 'Leukocytes',\n",
       "  '5': 'Podocytes',\n",
       "  '6': 'Proximal Tubule Segments',\n",
       "  '7': 'Thick Ascending Limb'},\n",
       " 'n_channels': 1,\n",
       " 'n_samples': {'train': 165466, 'val': 23640, 'test': 47280},\n",
       " 'license': 'CC BY 4.0'}"
      ]
     },
     "execution_count": 44,
     "metadata": {},
     "output_type": "execute_result"
    }
   ],
   "source": [
    "info"
   ]
  },
  {
   "cell_type": "code",
   "execution_count": 45,
   "id": "c0643300-8e86-4dcd-a6c6-33baca1f0990",
   "metadata": {},
   "outputs": [],
   "source": [
    "imgs = []\n",
    "for i in range(len(train_dataset)):\n",
    "    imgs.append(train_dataset[i][0])\n",
    "imgs=torch.stack(imgs)"
   ]
  },
  {
   "cell_type": "code",
   "execution_count": 46,
   "id": "24e2d902-64ce-477d-9700-b5a041f407f5",
   "metadata": {},
   "outputs": [
    {
     "data": {
      "text/plain": [
       "torch.Size([165466, 1, 28, 28])"
      ]
     },
     "execution_count": 46,
     "metadata": {},
     "output_type": "execute_result"
    }
   ],
   "source": [
    "imgs.shape"
   ]
  },
  {
   "cell_type": "code",
   "execution_count": 47,
   "id": "a41caa08-6cb1-4e5a-a947-e80d43a8f697",
   "metadata": {},
   "outputs": [
    {
     "data": {
      "text/plain": [
       "torch.Size([1])"
      ]
     },
     "execution_count": 47,
     "metadata": {},
     "output_type": "execute_result"
    }
   ],
   "source": [
    "mean=torch.mean(imgs, dim=(0,2,3))\n",
    "mean.shape"
   ]
  },
  {
   "cell_type": "code",
   "execution_count": 83,
   "id": "0168502d-d0f3-4935-ac7d-081918176eed",
   "metadata": {},
   "outputs": [],
   "source": [
    "batch = next(iter(train_loader))"
   ]
  },
  {
   "cell_type": "code",
   "execution_count": 85,
   "id": "ff30388d-5129-4596-a937-25113310bda8",
   "metadata": {},
   "outputs": [
    {
     "data": {
      "text/plain": [
       "torch.Size([128, 1, 28, 28])"
      ]
     },
     "execution_count": 85,
     "metadata": {},
     "output_type": "execute_result"
    }
   ],
   "source": [
    "batch[0].shape"
   ]
  },
  {
   "cell_type": "code",
   "execution_count": 104,
   "id": "9f222225-7bdd-4fe9-bcc3-a6411317838e",
   "metadata": {},
   "outputs": [],
   "source": [
    "pics = batch[0][21][0]"
   ]
  },
  {
   "cell_type": "code",
   "execution_count": 105,
   "id": "f379eec7-85d8-44ee-82ed-910b9fc7b324",
   "metadata": {},
   "outputs": [
    {
     "data": {
      "text/plain": [
       "<matplotlib.image.AxesImage at 0x7f772aec0b60>"
      ]
     },
     "execution_count": 105,
     "metadata": {},
     "output_type": "execute_result"
    },
    {
     "data": {
      "image/png": "[encoded data removed]",
      "text/plain": [
       "<Figure size 640x480 with 1 Axes>"
      ]
     },
     "metadata": {},
     "output_type": "display_data"
    }
   ],
   "source": [
    "plt.imshow(pics, cmap=\"gray\")"
   ]
  },
  {
   "cell_type": "code",
   "execution_count": null,
   "id": "b8ce971d-3c23-4b34-a4f6-87a7dfb55084",
   "metadata": {},
   "outputs": [],
   "source": []
  },
  {
   "cell_type": "markdown",
   "id": "ceac72d9-186d-42a7-b32f-f77c59ac16ca",
   "metadata": {
    "jp-MarkdownHeadingCollapsed": true
   },
   "source": [
    "# NoduleMNIST3D"
   ]
  },
  {
   "cell_type": "code",
   "execution_count": 48,
   "id": "4d6f08ee-b6a1-4a62-880e-3348f43e803d",
   "metadata": {},
   "outputs": [],
   "source": [
    "data_flag = \"nodulemnist3d\"\n",
    "download = True\n",
    "\n",
    "NUM_EPOCHS = 3\n",
    "BATCH_SIZE = 128\n",
    "lr = 0.001\n",
    "\n",
    "info = INFO[data_flag]\n",
    "task = info['task']\n",
    "n_channels = info['n_channels']\n",
    "n_classes = len(info['label'])\n",
    "\n",
    "DataClass = getattr(medmnist, info['python_class'])"
   ]
  },
  {
   "cell_type": "code",
   "execution_count": 49,
   "id": "c0e63955-b30a-4bbf-97b4-c30ccf484972",
   "metadata": {},
   "outputs": [
    {
     "data": {
      "text/plain": [
       "{'python_class': 'NoduleMNIST3D',\n",
       " 'description': 'The NoduleMNIST3D is based on the LIDC-IDRI, a large public lung nodule dataset, containing images from thoracic CT scans. The dataset is designed for both lung nodule segmentation and 5-level malignancy classification task. To perform binary classification, we categorize cases with malignancy level 1/2 into negative class and 4/5 into positive class, ignoring the cases with malignancy level 3. We split the source dataset with a ratio of 7:1:2 into training, validation and test set, and center-crop the spatially normalized images (with a spacing of 1mm×1mm×1mm) into 28×28×28.',\n",
       " 'url': 'https://zenodo.org/records/10519652/files/nodulemnist3d.npz?download=1',\n",
       " 'MD5': '8755a7e9e05a4d9ce80a24c3e7a256f3',\n",
       " 'url_64': 'https://zenodo.org/records/10519652/files/nodulemnist3d_64.npz?download=1',\n",
       " 'MD5_64': 'c47c5b7d457bf6332200d2ea6d64ecd8',\n",
       " 'task': 'binary-class',\n",
       " 'label': {'0': 'benign', '1': 'malignant'},\n",
       " 'n_channels': 1,\n",
       " 'n_samples': {'train': 1158, 'val': 165, 'test': 310},\n",
       " 'license': 'CC BY 4.0'}"
      ]
     },
     "execution_count": 49,
     "metadata": {},
     "output_type": "execute_result"
    }
   ],
   "source": [
    "info"
   ]
  },
  {
   "cell_type": "code",
   "execution_count": 50,
   "id": "4e601b6a-84dd-4551-a35f-6cdbbdf02621",
   "metadata": {},
   "outputs": [
    {
     "name": "stdout",
     "output_type": "stream",
     "text": [
      "Using downloaded and verified file: /home/jbinda/.medmnist/nodulemnist3d.npz\n",
      "Using downloaded and verified file: /home/jbinda/.medmnist/nodulemnist3d.npz\n"
     ]
    }
   ],
   "source": [
    "# load the data\n",
    "train_dataset = DataClass(split='train', download=download)\n",
    "test_dataset = DataClass(split='test', download=download)\n",
    "\n",
    "# encapsulate data into dataloader form\n",
    "train_loader = data.DataLoader(dataset=train_dataset, batch_size=BATCH_SIZE, shuffle=True)\n",
    "test_loader = data.DataLoader(dataset=test_dataset, batch_size=2*BATCH_SIZE, shuffle=False)"
   ]
  },
  {
   "cell_type": "code",
   "execution_count": 52,
   "id": "ab5cf52d-8fe9-474d-b217-8ab33d65dec5",
   "metadata": {},
   "outputs": [
    {
     "data": {
      "text/plain": [
       "torch.Size([1158, 1, 28, 28, 28])"
      ]
     },
     "execution_count": 52,
     "metadata": {},
     "output_type": "execute_result"
    }
   ],
   "source": [
    "imgs=[]\n",
    "for i in range(len(train_dataset)):\n",
    "    imgs.append(torch.tensor(train_dataset[i][0]))\n",
    "imgs=torch.stack(imgs)\n",
    "imgs.shape"
   ]
  },
  {
   "cell_type": "code",
   "execution_count": 57,
   "id": "df29a380-d949-4a40-b35c-de36fea50972",
   "metadata": {},
   "outputs": [],
   "source": [
    "batch = next(iter(train_loader))"
   ]
  },
  {
   "cell_type": "code",
   "execution_count": 77,
   "id": "71140851-aba2-4e99-9c26-7845660ff93f",
   "metadata": {},
   "outputs": [],
   "source": [
    "crop = batch[0][6][0]"
   ]
  },
  {
   "cell_type": "code",
   "execution_count": 78,
   "id": "dc71d05d-6617-45a0-a842-5af25a87ba59",
   "metadata": {},
   "outputs": [
    {
     "data": {
      "text/plain": [
       "torch.Size([28, 28, 28])"
      ]
     },
     "execution_count": 78,
     "metadata": {},
     "output_type": "execute_result"
    }
   ],
   "source": [
    "crop.shape"
   ]
  },
  {
   "cell_type": "code",
   "execution_count": 79,
   "id": "e49e5d4d-05e9-46f6-a018-015f6f5db573",
   "metadata": {},
   "outputs": [
    {
     "data": {
      "text/plain": [
       "<matplotlib.image.AxesImage at 0x7f772af11100>"
      ]
     },
     "execution_count": 79,
     "metadata": {},
     "output_type": "execute_result"
    },
    {
     "data": {
      "image/png": "[encoded data removed]",
      "text/plain": [
       "<Figure size 640x480 with 1 Axes>"
      ]
     },
     "metadata": {},
     "output_type": "display_data"
    }
   ],
   "source": [
    "plt.imshow(crop[14,:,:], cmap='gray')"
   ]
  },
  {
   "cell_type": "markdown",
   "id": "d40c553d-da5a-4bd4-8fcf-8c25d0c9094b",
   "metadata": {},
   "source": [
    "# Trash"
   ]
  },
  {
   "cell_type": "markdown",
   "id": "ca07e197-d32e-42d3-a99a-cfbe220a9ae9",
   "metadata": {},
   "source": [
    "## Dataset"
   ]
  },
  {
   "cell_type": "code",
   "execution_count": 7,
   "id": "e5ef7812-48c1-47e7-aafd-dc408f647473",
   "metadata": {},
   "outputs": [],
   "source": [
    "from medmnist_dataset import get_medmnist_dataset, DataFlag"
   ]
  },
  {
   "cell_type": "code",
   "execution_count": 8,
   "id": "df11f78f-c857-4b92-b7ae-62d4f321708f",
   "metadata": {},
   "outputs": [
    {
     "name": "stdout",
     "output_type": "stream",
     "text": [
      "Using downloaded and verified file: /home/jbinda/.medmnist/nodulemnist3d.npz\n",
      "Dataset NoduleMNIST3D of size 28 (nodulemnist3d)\n",
      "    Number of datapoints: 1158\n",
      "    Root location: /home/jbinda/.medmnist\n",
      "    Split: train\n",
      "    Task: binary-class\n",
      "    Number of channels: 1\n",
      "    Meaning of labels: {'0': 'benign', '1': 'malignant'}\n",
      "    Number of samples: {'train': 1158, 'val': 165, 'test': 310}\n",
      "    Description: The NoduleMNIST3D is based on the LIDC-IDRI, a large public lung nodule dataset, containing images from thoracic CT scans. The dataset is designed for both lung nodule segmentation and 5-level malignancy classification task. To perform binary classification, we categorize cases with malignancy level 1/2 into negative class and 4/5 into positive class, ignoring the cases with malignancy level 3. We split the source dataset with a ratio of 7:1:2 into training, validation and test set, and center-crop the spatially normalized images (with a spacing of 1mm×1mm×1mm) into 28×28×28.\n",
      "    License: CC BY 4.0\n"
     ]
    }
   ],
   "source": [
    "dataset = get_medmnist_dataset(\n",
    "    data_flag=DataFlag.NODULEMNIST3D,\n",
    "    mode=\"train\",\n",
    "    data_transform=None,\n",
    "    size=28,\n",
    "    download=True,\n",
    "    mmap_mode=None\n",
    ")\n",
    "\n",
    "print(dataset)\n"
   ]
  },
  {
   "cell_type": "code",
   "execution_count": 11,
   "id": "39adc00e-115a-4058-926f-4593385bb345",
   "metadata": {},
   "outputs": [
    {
     "data": {
      "text/plain": [
       "(1, 28, 28, 28)"
      ]
     },
     "execution_count": 11,
     "metadata": {},
     "output_type": "execute_result"
    }
   ],
   "source": [
    "dataset[0][0].shape"
   ]
  },
  {
   "cell_type": "code",
   "execution_count": null,
   "id": "076a4f1f-5b53-4751-93ad-07c04a93a347",
   "metadata": {},
   "outputs": [],
   "source": []
  },
  {
   "cell_type": "code",
   "execution_count": 6,
   "id": "08f53bd8-08ce-4f92-837e-58f6763a35a0",
   "metadata": {},
   "outputs": [],
   "source": [
    "ds_MM = Dataset_MedMNIST(mode=\"train\", data_flag=DataFlag.PATHMNIST, size=28)"
   ]
  },
  {
   "cell_type": "code",
   "execution_count": 7,
   "id": "e41363fb-61d6-4d00-86cb-cd0434715caa",
   "metadata": {},
   "outputs": [],
   "source": [
    "ds = ds_MM.get_dataset()"
   ]
  },
  {
   "cell_type": "code",
   "execution_count": 8,
   "id": "0c2badcb-e4c0-4b1e-b3a5-f19b57938968",
   "metadata": {},
   "outputs": [],
   "source": [
    "img = ds[10]"
   ]
  },
  {
   "cell_type": "code",
   "execution_count": 9,
   "id": "1ffb42fb-680a-43ee-9481-c12e7786ed06",
   "metadata": {},
   "outputs": [
    {
     "ename": "NameError",
     "evalue": "name 'plt' is not defined",
     "output_type": "error",
     "traceback": [
      "\u001b[0;31m---------------------------------------------------------------------------\u001b[0m",
      "\u001b[0;31mNameError\u001b[0m                                 Traceback (most recent call last)",
      "Cell \u001b[0;32mIn[9], line 1\u001b[0m\n\u001b[0;32m----> 1\u001b[0m \u001b[43mplt\u001b[49m\u001b[38;5;241m.\u001b[39mimshow(img[\u001b[38;5;241m0\u001b[39m])\n",
      "\u001b[0;31mNameError\u001b[0m: name 'plt' is not defined"
     ]
    }
   ],
   "source": [
    "plt.imshow(img[0])"
   ]
  },
  {
   "cell_type": "code",
   "execution_count": 34,
   "id": "dd0e105f-9d22-42a4-a3d8-c7a97d3b019e",
   "metadata": {},
   "outputs": [
    {
     "data": {
      "text/plain": [
       "{'python_class': 'PathMNIST',\n",
       " 'description': 'The PathMNIST is based on a prior study for predicting survival from colorectal cancer histology slides, providing a dataset (NCT-CRC-HE-100K) of 100,000 non-overlapping image patches from hematoxylin & eosin stained histological images, and a test dataset (CRC-VAL-HE-7K) of 7,180 image patches from a different clinical center. The dataset is comprised of 9 types of tissues, resulting in a multi-class classification task. We resize the source images of 3×224×224 into 3×28×28, and split NCT-CRC-HE-100K into training and validation set with a ratio of 9:1. The CRC-VAL-HE-7K is treated as the test set.',\n",
       " 'url': 'https://zenodo.org/records/10519652/files/pathmnist.npz?download=1',\n",
       " 'MD5': 'a8b06965200029087d5bd730944a56c1',\n",
       " 'url_64': 'https://zenodo.org/records/10519652/files/pathmnist_64.npz?download=1',\n",
       " 'MD5_64': '55aa9c1e0525abe5a6b9d8343a507616',\n",
       " 'url_128': 'https://zenodo.org/records/10519652/files/pathmnist_128.npz?download=1',\n",
       " 'MD5_128': 'ac42d08fb904d92c244187169d1fd1d9',\n",
       " 'url_224': 'https://zenodo.org/records/10519652/files/pathmnist_224.npz?download=1',\n",
       " 'MD5_224': '2c51a510bcdc9cf8ddb2af93af1eadec',\n",
       " 'task': 'multi-class',\n",
       " 'label': {'0': 'adipose',\n",
       "  '1': 'background',\n",
       "  '2': 'debris',\n",
       "  '3': 'lymphocytes',\n",
       "  '4': 'mucus',\n",
       "  '5': 'smooth muscle',\n",
       "  '6': 'normal colon mucosa',\n",
       "  '7': 'cancer-associated stroma',\n",
       "  '8': 'colorectal adenocarcinoma epithelium'},\n",
       " 'n_channels': 3,\n",
       " 'n_samples': {'train': 89996, 'val': 10004, 'test': 7180},\n",
       " 'license': 'CC BY 4.0'}"
      ]
     },
     "execution_count": 34,
     "metadata": {},
     "output_type": "execute_result"
    }
   ],
   "source": [
    "ds_MM.get_info()"
   ]
  },
  {
   "cell_type": "markdown",
   "id": "65912f7b-f638-4887-8b14-0828e6684a0e",
   "metadata": {},
   "source": [
    "## DataModule"
   ]
  },
  {
   "cell_type": "code",
   "execution_count": 1,
   "id": "0a4f72fe-d293-43e1-a593-0de9b358ca74",
   "metadata": {},
   "outputs": [],
   "source": [
    "from data_module import DataModule\n",
    "from medmnist_dataset import DataFlag"
   ]
  },
  {
   "cell_type": "code",
   "execution_count": 2,
   "id": "3ddfa6d2-afe3-4149-916b-c55980dec444",
   "metadata": {},
   "outputs": [],
   "source": [
    "dm = DataModule(data_flag=DataFlag.PATHMNIST)"
   ]
  },
  {
   "cell_type": "code",
   "execution_count": 3,
   "id": "48909ceb-c3eb-40ab-b940-718828e3a2d3",
   "metadata": {},
   "outputs": [
    {
     "name": "stdout",
     "output_type": "stream",
     "text": [
      "Using downloaded and verified file: /home/jbinda/.medmnist/pathmnist.npz\n"
     ]
    }
   ],
   "source": [
    "dm.prepare_data()"
   ]
  },
  {
   "cell_type": "code",
   "execution_count": 4,
   "id": "6445c351-2c6c-4854-8cc0-201acfabc346",
   "metadata": {},
   "outputs": [],
   "source": [
    "dm.setup()"
   ]
  },
  {
   "cell_type": "code",
   "execution_count": 5,
   "id": "dcf5c03c-5e94-44a6-b4ce-ce973aa88e18",
   "metadata": {},
   "outputs": [],
   "source": [
    "loader = dm.train_dataloader()"
   ]
  },
  {
   "cell_type": "code",
   "execution_count": 6,
   "id": "c6b6cd6c-453e-4456-96dc-a6a64995f2d9",
   "metadata": {},
   "outputs": [],
   "source": [
    "batch = next(iter(loader))"
   ]
  },
  {
   "cell_type": "code",
   "execution_count": 7,
   "id": "4d780b12-65e2-4a3a-9f4d-3b5d9726d06d",
   "metadata": {
    "scrolled": true
   },
   "outputs": [],
   "source": [
    "img = batch[0][0]"
   ]
  },
  {
   "cell_type": "code",
   "execution_count": 8,
   "id": "1ee3b801-b516-4fbe-8017-62955ed7de2c",
   "metadata": {},
   "outputs": [
    {
     "data": {
      "text/plain": [
       "tensor([[[0.7333, 0.7451, 0.7373,  ..., 0.7961, 0.8039, 0.8471],\n",
       "         [0.6353, 0.5451, 0.6627,  ..., 0.6863, 0.7333, 0.7882],\n",
       "         [0.6549, 0.5490, 0.7922,  ..., 0.7961, 0.8000, 0.8118],\n",
       "         ...,\n",
       "         [0.8000, 0.6902, 0.7529,  ..., 0.6196, 0.7255, 0.7882],\n",
       "         [0.8118, 0.6824, 0.6157,  ..., 0.8078, 0.8314, 0.8275],\n",
       "         [0.8039, 0.7686, 0.6275,  ..., 0.8471, 0.8392, 0.7294]],\n",
       "\n",
       "        [[0.4078, 0.4275, 0.4235,  ..., 0.4314, 0.4706, 0.5333],\n",
       "         [0.3294, 0.2824, 0.3686,  ..., 0.3804, 0.4353, 0.4941],\n",
       "         [0.3569, 0.2902, 0.5137,  ..., 0.4510, 0.4745, 0.4980],\n",
       "         ...,\n",
       "         [0.5098, 0.4275, 0.4471,  ..., 0.3216, 0.3922, 0.4392],\n",
       "         [0.4902, 0.4157, 0.3804,  ..., 0.4196, 0.4392, 0.4392],\n",
       "         [0.4784, 0.4510, 0.3647,  ..., 0.4824, 0.4784, 0.3922]],\n",
       "\n",
       "        [[0.6275, 0.6510, 0.6471,  ..., 0.6510, 0.6824, 0.7294],\n",
       "         [0.5686, 0.5294, 0.6000,  ..., 0.6157, 0.6549, 0.6902],\n",
       "         [0.5882, 0.5294, 0.7059,  ..., 0.6667, 0.6824, 0.6980],\n",
       "         ...,\n",
       "         [0.7059, 0.6471, 0.6549,  ..., 0.5569, 0.6157, 0.6588],\n",
       "         [0.6941, 0.6353, 0.6039,  ..., 0.6431, 0.6588, 0.6627],\n",
       "         [0.6824, 0.6627, 0.6000,  ..., 0.6902, 0.6902, 0.6196]]])"
      ]
     },
     "execution_count": 8,
     "metadata": {},
     "output_type": "execute_result"
    }
   ],
   "source": [
    "img"
   ]
  },
  {
   "cell_type": "code",
   "execution_count": 9,
   "id": "b09ef40f-6480-4b60-a81e-ad15006b41a3",
   "metadata": {},
   "outputs": [
    {
     "data": {
      "text/plain": [
       "<matplotlib.image.AxesImage at 0x7f73d839cda0>"
      ]
     },
     "execution_count": 9,
     "metadata": {},
     "output_type": "execute_result"
    },
    {
     "data": {
      "image/png": "[encoded data removed]",
      "text/plain": [
       "<Figure size 640x480 with 1 Axes>"
      ]
     },
     "metadata": {},
     "output_type": "display_data"
    }
   ],
   "source": [
    "import matplotlib.pyplot as plt\n",
    "import torch\n",
    "img = torch.movedim(img, 0, 2)\n",
    "plt.imshow(img)"
   ]
  },
  {
   "cell_type": "code",
   "execution_count": null,
   "id": "4170a837-c797-4845-b523-aab98627668d",
   "metadata": {},
   "outputs": [],
   "source": []
  }
 ],
 "metadata": {
  "kernelspec": {
   "display_name": "Python 3 (ipykernel)",
   "language": "python",
   "name": "python3"
  },
  "language_info": {
   "codemirror_mode": {
    "name": "ipython",
    "version": 3
   },
   "file_extension": ".py",
   "mimetype": "text/x-python",
   "name": "python",
   "nbconvert_exporter": "python",
   "pygments_lexer": "ipython3",
   "version": "3.12.2"
  }
 },
 "nbformat": 4,
 "nbformat_minor": 5
}
